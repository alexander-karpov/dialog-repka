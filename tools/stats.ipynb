{
 "cells": [
  {
   "cell_type": "code",
   "execution_count": 1,
   "metadata": {},
   "outputs": [
    {
     "data": {
      "text/plain": [
       "([{'_id': None, 'avg': 15.581275913255643}],\n",
       " [{'_id': None, 'avg': 14.806671315667131}])"
      ]
     },
     "execution_count": 1,
     "metadata": {},
     "output_type": "execute_result"
    }
   ],
   "source": [
    "from db import db\n",
    "from datetime import datetime\n",
    "\n",
    "from_1 = datetime(2022, 3, 21).timestamp()*1000\n",
    "to_1 = datetime(2022, 4, 4).timestamp()*1000\n",
    "\n",
    "from_2 = datetime(2022, 4, 21).timestamp()*1000\n",
    "to_2 = datetime(2022, 5, 4).timestamp()*1000\n",
    "\n",
    "list(db.repka_logs.aggregate([\n",
    "    {\n",
    "        '$match': {  'app': { '$eq': 'repka' }, 'time': { '$gt': from_1, '$lt': to_1 }  } \n",
    "    },\n",
    "    {  '$group': { '_id': \"$session_id\", 'session_length': { '$sum': 1 } } },\n",
    "    {\n",
    "        '$match': {  'session_length': { '$gt': 1 }  }\n",
    "    },\n",
    "    {  '$group': { '_id': None, 'avg': { '$avg': '$session_length' } } },\n",
    "])), list(db.repka_logs.aggregate([\n",
    "    {\n",
    "        '$match': {  'app': { '$eq': 'repka' }, 'time': { '$gt': from_2, '$lt': to_2 }  } \n",
    "    },\n",
    "    {  '$group': { '_id': \"$session_id\", 'session_length': { '$sum': 1 } } },\n",
    "    {\n",
    "        '$match': {  'session_length': { '$gt': 1 }  }\n",
    "    },\n",
    "    {  '$group': { '_id': None, 'avg': { '$avg': '$session_length' } } },\n",
    "]))"
   ]
  },
  {
   "cell_type": "code",
   "execution_count": 2,
   "metadata": {},
   "outputs": [
    {
     "data": {
      "text/plain": [
       "(1651232413035.0,)"
      ]
     },
     "execution_count": 2,
     "metadata": {},
     "output_type": "execute_result"
    }
   ],
   "source": [
    "from time import time\n",
    "\n",
    "\n",
    "1651232340000.0\n",
    "1651232413035.0,"
   ]
  },
  {
   "cell_type": "code",
   "execution_count": 3,
   "metadata": {},
   "outputs": [],
   "source": [
    "# from db import db\n",
    "\n",
    "# list(db.repka_logs.aggregate([\n",
    "#     {\n",
    "#         '$match': { 'app': { '$eq': 'hagi' } }\n",
    "#     },\n",
    "#     {\n",
    "#         '$group': { '_id': \"$request\", 'count': { '$sum': 1 } }\n",
    "#     },\n",
    "#     {\n",
    "#         '$match': { 'count': { '$lt': 500 } }\n",
    "#     },\n",
    "#     {\n",
    "#         '$sort': { 'count': -1 }\n",
    "#     }\n",
    "# ]))"
   ]
  }
 ],
 "metadata": {
  "interpreter": {
   "hash": "aee8b7b246df8f9039afb4144a1f6fd8d2ca17a180786b69acc140d282b71a49"
  },
  "kernelspec": {
   "display_name": "Python 3.9.6 64-bit",
   "name": "python3"
  },
  "language_info": {
   "codemirror_mode": {
    "name": "ipython",
    "version": 3
   },
   "file_extension": ".py",
   "mimetype": "text/x-python",
   "name": "python",
   "nbconvert_exporter": "python",
   "pygments_lexer": "ipython3",
   "version": "3.9.6"
  },
  "orig_nbformat": 4
 },
 "nbformat": 4,
 "nbformat_minor": 2
}
