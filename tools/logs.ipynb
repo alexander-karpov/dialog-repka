{
 "cells": [
  {
   "cell_type": "code",
   "execution_count": 88,
   "metadata": {},
   "outputs": [
    {
     "data": {
      "text/plain": [
       "True"
      ]
     },
     "execution_count": 88,
     "metadata": {},
     "output_type": "execute_result"
    }
   ],
   "source": [
    "from db import db\n",
    "import pymongo\n",
    "import time\n",
    "\n",
    "query = db.repka_logs.aggregate([\n",
    "    {'$sort': { 'time': -1 }},\n",
    "    { '$match': { 'is_viewed': { \"$ne\": True } } },\n",
    "    {'$limit': 2 }\n",
    "])\n",
    "\n",
    "cur = next(query)\n",
    "one = next(query)\n",
    "\n",
    "\n",
    "\n",
    "# text = [one[\"time\"]]\n",
    "\n",
    "# for one in db.repka_logs.find({ \"session_id\": one['session_id'] }).sort([(\"message_id\", 1)]):\n",
    "#     text.append(f\"{one['request']}\\n{one['response']}\\n\")\n",
    "\n",
    "# print(\"\\n\".join(text))\n",
    "\n",
    "\n",
    "\n",
    "# db.repka_logs.update({'version': 1}, {\"$set\": { 'time': 0 }} )\n",
    "cur[\"time\"] > one[\"time\"]"
   ]
  },
  {
   "cell_type": "code",
   "execution_count": 82,
   "metadata": {},
   "outputs": [],
   "source": [
    "# db.command({ 'collStats' : \"repka_logs\", 'scale': 1024*1024 })"
   ]
  },
  {
   "cell_type": "code",
   "execution_count": 83,
   "metadata": {},
   "outputs": [],
   "source": [
    "from IPython.display import display\n"
   ]
  },
  {
   "cell_type": "code",
   "execution_count": null,
   "metadata": {},
   "outputs": [],
   "source": []
  }
 ],
 "metadata": {
  "interpreter": {
   "hash": "aee8b7b246df8f9039afb4144a1f6fd8d2ca17a180786b69acc140d282b71a49"
  },
  "kernelspec": {
   "display_name": "Python 3.9.6 64-bit",
   "name": "python3"
  },
  "language_info": {
   "codemirror_mode": {
    "name": "ipython",
    "version": 3
   },
   "file_extension": ".py",
   "mimetype": "text/x-python",
   "name": "python",
   "nbconvert_exporter": "python",
   "pygments_lexer": "ipython3",
   "version": "3.9.6"
  },
  "orig_nbformat": 4
 },
 "nbformat": 4,
 "nbformat_minor": 2
}
