{
 "cells": [
  {
   "cell_type": "code",
   "execution_count": 81,
   "metadata": {},
   "outputs": [
    {
     "data": {
      "text/plain": [
       "{'_id': ObjectId('61f6a4d40c7bd4004b788682'),\n",
       " 'request': 'ежедневный пророк',\n",
       " 'message_id': 4,\n",
       " 'session_id': '3e87b1b8-b428-4e14-8c25-f891399b5289',\n",
       " 'response': 'Я ежедневный пророк. Помогу вам. Ежедневный пророк за ежедневног',\n",
       " 'time': 1643554004995.0,\n",
       " 'version': 2}"
      ]
     },
     "execution_count": 81,
     "metadata": {},
     "output_type": "execute_result"
    }
   ],
   "source": [
    "from db import db\n",
    "import pymongo\n",
    "import time\n",
    "\n",
    "one = next(db.repka_logs.aggregate([\n",
    "    {'$sort': { 'time': -1 }},\n",
    "    { '$match': { 'is_viewed': { \"$ne\": True } } },\n",
    "    {'$limit': 1 }\n",
    "]))\n",
    "\n",
    "# text = [one[\"time\"]]\n",
    "\n",
    "# for one in db.repka_logs.find({ \"session_id\": one['session_id'] }).sort([(\"message_id\", 1)]):\n",
    "#     text.append(f\"{one['request']}\\n{one['response']}\\n\")\n",
    "\n",
    "# print(\"\\n\".join(text))\n",
    "\n",
    "\n",
    "\n",
    "# db.repka_logs.update({'version': 1}, {\"$set\": { 'time': 0 }} )\n",
    "one"
   ]
  },
  {
   "cell_type": "code",
   "execution_count": 82,
   "metadata": {},
   "outputs": [],
   "source": [
    "# db.command({ 'collStats' : \"repka_logs\", 'scale': 1024*1024 })"
   ]
  },
  {
   "cell_type": "code",
   "execution_count": 83,
   "metadata": {},
   "outputs": [],
   "source": [
    "from IPython.display import display\n"
   ]
  },
  {
   "cell_type": "code",
   "execution_count": null,
   "metadata": {},
   "outputs": [],
   "source": []
  }
 ],
 "metadata": {
  "interpreter": {
   "hash": "aee8b7b246df8f9039afb4144a1f6fd8d2ca17a180786b69acc140d282b71a49"
  },
  "kernelspec": {
   "display_name": "Python 3.9.6 64-bit",
   "name": "python3"
  },
  "language_info": {
   "codemirror_mode": {
    "name": "ipython",
    "version": 3
   },
   "file_extension": ".py",
   "mimetype": "text/x-python",
   "name": "python",
   "nbconvert_exporter": "python",
   "pygments_lexer": "ipython3",
   "version": "3.9.6"
  },
  "orig_nbformat": 4
 },
 "nbformat": 4,
 "nbformat_minor": 2
}
