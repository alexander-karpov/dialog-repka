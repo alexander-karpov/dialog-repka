{
 "cells": [
  {
   "cell_type": "code",
   "execution_count": 2,
   "metadata": {},
   "outputs": [
    {
     "name": "stdout",
     "output_type": "stream",
     "text": [
      "> \n",
      "< Хаги - кукла из игры.\n",
      " Ожила так что беги.\n",
      " Я ХАГИ ВАГИ. Я буду \n",
      "\n",
      "> что сказать ты повторяй за мной\n",
      "< что сказать ты повторяй за мной\n",
      "\n",
      "> сколько тебе лет\n",
      "< сколько тебе лет\n",
      "\n",
      "> помощь\n",
      "< Они научили меня играть в повторюшу. Я буду играть с тобой. Я по\n",
      "\n",
      "> я боюсь\n",
      "< я боюсь\n",
      "\n",
      "> все я выхожу из игры\n",
      "< все я выхожу из игры\n",
      "\n",
      "> выход\n",
      "< На этот раз тебе удалось убежать. Но мы ещё поиграем.\n",
      "\n"
     ]
    },
    {
     "data": {
      "text/plain": [
       "<pymongo.results.UpdateResult at 0x10c7640c0>"
      ]
     },
     "execution_count": 2,
     "metadata": {},
     "output_type": "execute_result"
    }
   ],
   "source": [
    "from db import db\n",
    "import pymongo\n",
    "import time\n",
    "\n",
    "one = next(db.repka_logs.aggregate([\n",
    "    {'$sort': { 'time': -1 }},\n",
    "    { '$match': { 'is_viewed': { \"$ne\": True }, 'app': { \"$eq\": \"hagi\" } } },\n",
    "    {'$skip': 0 },\n",
    "    {'$limit': 1 },\n",
    "]))\n",
    "\n",
    "\n",
    "\n",
    "\n",
    "text = []\n",
    "\n",
    "for one in db.repka_logs.find({ \"session_id\": one['session_id'] }).sort([(\"message_id\", 1)]):\n",
    "    text.append(f\"> {one['request']}\\n< {one['response']}\\n\")\n",
    "\n",
    "print(\"\\n\".join(text))\n",
    "\n",
    "\n",
    "\n",
    "db.repka_logs.update_many({'session_id': {'$eq': one[\"session_id\"]}}, {\"$set\": { 'is_viewed': True }} )"
   ]
  },
  {
   "cell_type": "code",
   "execution_count": 3,
   "metadata": {},
   "outputs": [],
   "source": [
    "# db.command({ 'collStats' : \"repka_logs\", 'scale': 1024*1024 })"
   ]
  },
  {
   "cell_type": "code",
   "execution_count": 6,
   "metadata": {},
   "outputs": [
    {
     "name": "stdout",
     "output_type": "stream",
     "text": [
      "> да\n",
      "> аша\n",
      "> кодовое слово\n",
      "> кодовое слов\n",
      "> кодовое слов 2\n",
      "> давай поиграем\n",
      "> как у тебя дела\n",
      "> выход\n",
      "> выход\n",
      "> выход\n",
      "> выход\n",
      "> помощь\n",
      "> я сплю всегда\n",
      "> она сейчас не сработает\n",
      "> привет\n",
      "> я ничего не поняла\n",
      "> кто ты\n",
      "> сашка\n",
      "> что сказать ты повторяй за мной\n",
      "> кодовое слов 3\n",
      "> помощь\n",
      "> помощь\n",
      "> что ты умеешь\n",
      "> не повторюшка\n",
      "> тебе нужно быстрее говори что нибудь\n",
      "> я хаги ваги\n",
      "> помощь\n",
      "> она повторяет\n",
      "> ты хаги ваги\n",
      "> сколько тебе лет\n",
      "> выход\n",
      "> выход\n",
      "> кукла из игры ожила так что беги\n",
      "> ева еще раз повтори то что ты сказала\n",
      "> где ваги а где ты родился\n",
      "> что ты умеешь\n",
      "> слишком много да\n",
      "> а я кто такой\n",
      "> помощь\n",
      "> что ты умеешь\n",
      "> привет\n",
      "> где прячешся\n",
      "> понятно а ты кто такой ты говоришь\n",
      "> а я кто такой отвечай другу если миссия я хаги ваги\n",
      "> я боюсь\n",
      "> выход страшно там нет картинок ничего нет\n",
      "> хаги ваги сколько тебе лет\n",
      "> ты где\n",
      "> ты\n",
      "> нет это я\n",
      "> все я выхожу из игры\n",
      "> а где магия что ты умеешь\n",
      "> ты здесь\n",
      "> ты\n",
      "> не понимает ничего\n",
      "> выход\n",
      "> ты\n",
      "> ты не смейся а я хаги ваги\n",
      "> я не понимаю таких слов\n",
      "> повтори еще раз\n",
      "> мама\n",
      "> давай поиграем в кто ты такой\n",
      "> ой не так называется а съедобное не съедобное\n",
      "> а давай поиграем в съедобное\n"
     ]
    }
   ],
   "source": [
    "for one in db.repka_logs.find({ \"app\": 'hagi' }).sort([(\"message_id\", 1)]):\n",
    "    if one['request']: print(f\"> {one['request']}\")"
   ]
  },
  {
   "cell_type": "code",
   "execution_count": null,
   "metadata": {},
   "outputs": [],
   "source": []
  }
 ],
 "metadata": {
  "interpreter": {
   "hash": "aee8b7b246df8f9039afb4144a1f6fd8d2ca17a180786b69acc140d282b71a49"
  },
  "kernelspec": {
   "display_name": "Python 3.9.6 64-bit",
   "name": "python3"
  },
  "language_info": {
   "codemirror_mode": {
    "name": "ipython",
    "version": 3
   },
   "file_extension": ".py",
   "mimetype": "text/x-python",
   "name": "python",
   "nbconvert_exporter": "python",
   "pygments_lexer": "ipython3",
   "version": "3.9.6"
  },
  "orig_nbformat": 4
 },
 "nbformat": 4,
 "nbformat_minor": 2
}
