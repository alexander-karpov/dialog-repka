{
 "cells": [
  {
   "cell_type": "code",
   "execution_count": 111,
   "metadata": {},
   "outputs": [
    {
     "data": {
      "text/plain": [
       "[('тырышкина',\n",
       "  'тырышкину',\n",
       "  0.3336448598130842,\n",
       "  OpencorporaTag('NOUN,inan,femn sing,nomn')),\n",
       " ('тырышкино',\n",
       "  'тырышкино',\n",
       "  0.3336448598130842,\n",
       "  OpencorporaTag('NOUN,inan,neut,Fixd sing,gent,Infr')),\n",
       " ('тырышкин',\n",
       "  'тырышкина',\n",
       "  0.09345794392523368,\n",
       "  OpencorporaTag('NOUN,anim,masc,Sgtm,Surn sing,gent')),\n",
       " ('тырышкин',\n",
       "  'тырышкина',\n",
       "  0.09345794392523368,\n",
       "  OpencorporaTag('NOUN,anim,masc,Sgtm,Surn sing,accs')),\n",
       " ('тырышкин',\n",
       "  'тырышкину',\n",
       "  0.09345794392523368,\n",
       "  OpencorporaTag('NOUN,anim,femn,Sgtm,Surn sing,nomn')),\n",
       " ('тырышкин',\n",
       "  'тырышкина',\n",
       "  0.013084112149532715,\n",
       "  OpencorporaTag('ADJF,Poss masc,sing,gent,Infr')),\n",
       " ('тырышкин',\n",
       "  'тырышкина',\n",
       "  0.013084112149532715,\n",
       "  OpencorporaTag('ADJF,Poss anim,masc,sing,accs,Infr')),\n",
       " ('тырышкин',\n",
       "  'тырышкину',\n",
       "  0.013084112149532715,\n",
       "  OpencorporaTag('ADJF,Poss femn,sing,nomn')),\n",
       " ('тырышкин',\n",
       "  'тырышкино',\n",
       "  0.013084112149532715,\n",
       "  OpencorporaTag('ADJF,Poss neut,sing,gent,Infr'))]"
      ]
     },
     "execution_count": 111,
     "metadata": {},
     "output_type": "execute_result"
    }
   ],
   "source": [
    "# %load_ext autoreload\n",
    "# %autoreload 2\n",
    "\n",
    "from morph import inflect, get_tag, morph\n",
    "from entity_parser import entity_parser\n",
    "from index import parser\n",
    "\n",
    "\n",
    "\n",
    "# [c.fact.inflect({'accs'}) for c in entity_parser.findall('саша карпов')]\n",
    "\n",
    "[(p.normal_form, p.inflect({'accs'}).word, p.score, p.tag)  for p in morph.parse('тырышкина')]"
   ]
  },
  {
   "cell_type": "code",
   "execution_count": 104,
   "metadata": {},
   "outputs": [
    {
     "data": {
      "text/plain": [
       "{1}"
      ]
     },
     "execution_count": 104,
     "metadata": {},
     "output_type": "execute_result"
    }
   ],
   "source": [
    "{1 ,2 } - {2 ,3 }"
   ]
  },
  {
   "cell_type": "code",
   "execution_count": null,
   "metadata": {},
   "outputs": [],
   "source": []
  }
 ],
 "metadata": {
  "interpreter": {
   "hash": "aee8b7b246df8f9039afb4144a1f6fd8d2ca17a180786b69acc140d282b71a49"
  },
  "kernelspec": {
   "display_name": "Python 3.9.6 64-bit",
   "name": "python3"
  },
  "language_info": {
   "codemirror_mode": {
    "name": "ipython",
    "version": 3
   },
   "file_extension": ".py",
   "mimetype": "text/x-python",
   "name": "python",
   "nbconvert_exporter": "python",
   "pygments_lexer": "ipython3",
   "version": "3.9.6"
  },
  "orig_nbformat": 4
 },
 "nbformat": 4,
 "nbformat_minor": 2
}
