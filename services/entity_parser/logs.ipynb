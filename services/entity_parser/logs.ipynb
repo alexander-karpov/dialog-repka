{
 "cells": [
  {
   "cell_type": "code",
   "execution_count": 32,
   "metadata": {},
   "outputs": [
    {
     "data": {
      "text/plain": [
       "[Collocation(\n",
       "     noun=None,\n",
       "     agreement=Agreement(\n",
       "         adjf=[],\n",
       "         noun=['брата',\n",
       "          'какашку'],\n",
       "         tag=OpencorporaTag('NOUN,anim,masc sing,accs')\n",
       "     ),\n",
       "     goverment=None,\n",
       "     tag=None\n",
       " )]"
      ]
     },
     "execution_count": 32,
     "metadata": {},
     "output_type": "execute_result"
    }
   ],
   "source": [
    "# %load_ext autoreload\n",
    "# %autoreload 2\n",
    "\n",
    "from morph import inflect, get_tag, morph\n",
    "from entity_parser import entity_parser, make_agreement\n",
    "from index import parser\n",
    "\n",
    "\n",
    "\n",
    "[c.fact.inflect({'accs'}) for c in entity_parser.findall('брата какашку')]"
   ]
  },
  {
   "cell_type": "code",
   "execution_count": 33,
   "metadata": {},
   "outputs": [],
   "source": [
    "from yargy import ( Parser, rule, or_, and_, not_ )\n",
    "from entity_parser import entity_parser, make_agreement\n",
    "\n",
    "p = Parser(make_agreement())"
   ]
  },
  {
   "cell_type": "code",
   "execution_count": 34,
   "metadata": {},
   "outputs": [
    {
     "data": {
      "text/plain": [
       "Match(\n",
       "    tokens=[MorphToken(\n",
       "         value='брата',\n",
       "         span=[0, 5),\n",
       "         type='RU',\n",
       "         forms=[Form('брат', Grams(NOUN,accs,anim,masc,sing))]\n",
       "     ),\n",
       "     MorphToken(\n",
       "         value='кошку',\n",
       "         span=[6, 11),\n",
       "         type='RU',\n",
       "         forms=[Form('кошка', Grams(NOUN,accs,anim,femn,sing)),\n",
       "          Form('кошка', Grams(NOUN,accs,femn,inan,sing))]\n",
       "     )],\n",
       "    span=[0, 11)\n",
       ")"
      ]
     },
     "execution_count": 34,
     "metadata": {},
     "output_type": "execute_result"
    }
   ],
   "source": [
    "p.find('брата кошку')"
   ]
  }
 ],
 "metadata": {
  "interpreter": {
   "hash": "aee8b7b246df8f9039afb4144a1f6fd8d2ca17a180786b69acc140d282b71a49"
  },
  "kernelspec": {
   "display_name": "Python 3.9.6 64-bit",
   "name": "python3"
  },
  "language_info": {
   "codemirror_mode": {
    "name": "ipython",
    "version": 3
   },
   "file_extension": ".py",
   "mimetype": "text/x-python",
   "name": "python",
   "nbconvert_exporter": "python",
   "pygments_lexer": "ipython3",
   "version": "3.9.6"
  },
  "orig_nbformat": 4
 },
 "nbformat": 4,
 "nbformat_minor": 2
}
