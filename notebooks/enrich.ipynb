{
 "cells": [
  {
   "cell_type": "code",
   "execution_count": 3,
   "metadata": {},
   "outputs": [
    {
     "data": {
      "text/plain": [
       "<dawg.CompletionDAWG at 0x109bbd6c0>"
      ]
     },
     "execution_count": 3,
     "metadata": {},
     "output_type": "execute_result"
    }
   ],
   "source": [
    "import dawg\n",
    "from morph import morph\n",
    "import random\n",
    "\n",
    "completion_dawg = dawg.CompletionDAWG()\n",
    "completion_dawg.load('../services/person_reverser/adj.dawg')"
   ]
  },
  {
   "cell_type": "code",
   "execution_count": 2,
   "metadata": {},
   "outputs": [
    {
     "ename": "NameError",
     "evalue": "name 'morph' is not defined",
     "output_type": "error",
     "traceback": [
      "\u001b[0;31m---------------------------------------------------------------------------\u001b[0m",
      "\u001b[0;31mNameError\u001b[0m                                 Traceback (most recent call last)",
      "\u001b[0;32m/var/folders/40/1s6rjl3576g_zy0swlv3gvwmh074v2/T/ipykernel_20018/1100713325.py\u001b[0m in \u001b[0;36m<module>\u001b[0;34m\u001b[0m\n\u001b[1;32m     20\u001b[0m     \u001b[0;32mreturn\u001b[0m \u001b[0;32mNone\u001b[0m\u001b[0;34m\u001b[0m\u001b[0;34m\u001b[0m\u001b[0m\n\u001b[1;32m     21\u001b[0m \u001b[0;34m\u001b[0m\u001b[0m\n\u001b[0;32m---> 22\u001b[0;31m \u001b[0mfind_adj\u001b[0m\u001b[0;34m(\u001b[0m\u001b[0mmorph\u001b[0m\u001b[0;34m.\u001b[0m\u001b[0mparse\u001b[0m\u001b[0;34m(\u001b[0m\u001b[0;34m'ум'\u001b[0m\u001b[0;34m)\u001b[0m\u001b[0;34m)\u001b[0m\u001b[0;34m\u001b[0m\u001b[0;34m\u001b[0m\u001b[0m\n\u001b[0m",
      "\u001b[0;31mNameError\u001b[0m: name 'morph' is not defined"
     ]
    }
   ],
   "source": [
    "\n",
    "def find_adj(parsed_word) -> str:\n",
    "    for p in parsed_word:\n",
    "        if \"NOUN\" in p.tag:\n",
    "            # Во избежание странных слов из одной буквы\n",
    "            if len(p.normal_form) < 3:\n",
    "                return None\n",
    "\n",
    "            cases = completion_dawg.keys(f\"{p.normal_form}:\")\n",
    "\n",
    "            if not len(cases):\n",
    "                return None\n",
    "\n",
    "            selected = random.choice(cases)\n",
    "            [root, adj] = selected.split(':')\n",
    "\n",
    "            adj_inf = morph.parse(adj)[0].inflect({ p.tag.gender, p.tag.case, p.tag.number })\n",
    "\n",
    "            return adj_inf.word if adj_inf else None\n",
    "\n",
    "    return None\n",
    "\n",
    "find_adj(morph.parse('ум'))"
   ]
  },
  {
   "cell_type": "code",
   "execution_count": 8,
   "metadata": {},
   "outputs": [
    {
     "data": {
      "text/plain": [
       "[Parse(word='дела', tag=OpencorporaTag('NOUN,inan,neut sing,gent'), normal_form='дело', score=0.657894, methods_stack=((DictionaryAnalyzer(), 'дела', 1326, 1),)),\n",
       " Parse(word='дела', tag=OpencorporaTag('NOUN,inan,neut plur,accs'), normal_form='дело', score=0.18421, methods_stack=((DictionaryAnalyzer(), 'дела', 1326, 9),)),\n",
       " Parse(word='дела', tag=OpencorporaTag('NOUN,inan,neut plur,nomn'), normal_form='дело', score=0.15497, methods_stack=((DictionaryAnalyzer(), 'дела', 1326, 6),)),\n",
       " Parse(word='дела', tag=OpencorporaTag('VERB,perf,tran femn,sing,past,indc'), normal_form='деть', score=0.002923, methods_stack=((DictionaryAnalyzer(), 'дела', 684, 2),))]"
      ]
     },
     "execution_count": 8,
     "metadata": {},
     "output_type": "execute_result"
    }
   ],
   "source": [
    "morph.parse('дела')"
   ]
  },
  {
   "cell_type": "code",
   "execution_count": null,
   "metadata": {},
   "outputs": [],
   "source": []
  }
 ],
 "metadata": {
  "interpreter": {
   "hash": "aee8b7b246df8f9039afb4144a1f6fd8d2ca17a180786b69acc140d282b71a49"
  },
  "kernelspec": {
   "display_name": "Python 3.9.6 64-bit",
   "language": "python",
   "name": "python3"
  },
  "language_info": {
   "codemirror_mode": {
    "name": "ipython",
    "version": 3
   },
   "file_extension": ".py",
   "mimetype": "text/x-python",
   "name": "python",
   "nbconvert_exporter": "python",
   "pygments_lexer": "ipython3",
   "version": "3.9.6"
  },
  "orig_nbformat": 4
 },
 "nbformat": 4,
 "nbformat_minor": 2
}
