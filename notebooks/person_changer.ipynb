{
 "cells": [
  {
   "cell_type": "code",
   "execution_count": 5,
   "id": "aa1f727c",
   "metadata": {},
   "outputs": [],
   "source": [
    "from nlp import nlp\n",
    "from morph import morph"
   ]
  },
  {
   "cell_type": "code",
   "execution_count": 41,
   "id": "7bad430f",
   "metadata": {},
   "outputs": [
    {
     "data": {
      "text/plain": [
       "[({\n",
       "    \"id\": 1,\n",
       "    \"text\": \"я\",\n",
       "    \"lemma\": \"я\",\n",
       "    \"upos\": \"PRON\",\n",
       "    \"feats\": \"Case=Nom|Number=Sing|Person=1\",\n",
       "    \"misc\": \"start_char=0|end_char=1\"\n",
       "  },\n",
       "  1),\n",
       " ({\n",
       "    \"id\": 2,\n",
       "    \"text\": \"вижу\",\n",
       "    \"lemma\": \"видеть\",\n",
       "    \"upos\": \"VERB\",\n",
       "    \"feats\": \"Aspect=Imp|Mood=Ind|Number=Sing|Person=1|Tense=Pres|VerbForm=Fin|Voice=Act\",\n",
       "    \"misc\": \"start_char=2|end_char=6\"\n",
       "  },\n",
       "  1),\n",
       " ({\n",
       "    \"id\": 3,\n",
       "    \"text\": \"собаку\",\n",
       "    \"lemma\": \"собака\",\n",
       "    \"upos\": \"NOUN\",\n",
       "    \"feats\": \"Animacy=Anim|Case=Acc|Gender=Fem|Number=Sing\",\n",
       "    \"misc\": \"start_char=7|end_char=13\"\n",
       "  },\n",
       "  None)]"
      ]
     },
     "execution_count": 41,
     "metadata": {},
     "output_type": "execute_result"
    }
   ],
   "source": [
    "\n",
    "\n",
    "\n",
    "def find_person(word):\n",
    "    if 'Person=1' in word.feats:\n",
    "        return 1\n",
    "    \n",
    "    if 'Person=2' in word.feats:\n",
    "        return 2\n",
    "    \n",
    "    return None\n",
    "\n",
    "\n",
    "w_p = [(word, find_person(word)) for word in nlp('я вижу собаку').sentences[0].words]\n",
    "\n",
    "for (word, person) in"
   ]
  },
  {
   "cell_type": "code",
   "execution_count": 30,
   "id": "cbe9f349",
   "metadata": {},
   "outputs": [
    {
     "data": {
      "text/plain": [
       "['ADJF', 'Apro masc', 'sing', 'nomn']"
      ]
     },
     "execution_count": 30,
     "metadata": {},
     "output_type": "execute_result"
    }
   ],
   "source": [
    "str(morph.parse('мой')[0].tag).split(',')\n",
    "\n"
   ]
  },
  {
   "cell_type": "code",
   "execution_count": null,
   "id": "173b876b",
   "metadata": {},
   "outputs": [],
   "source": []
  },
  {
   "cell_type": "code",
   "execution_count": null,
   "id": "a2de0bfa",
   "metadata": {},
   "outputs": [],
   "source": []
  }
 ],
 "metadata": {
  "kernelspec": {
   "display_name": "Python 3",
   "language": "python",
   "name": "python3"
  },
  "language_info": {
   "codemirror_mode": {
    "name": "ipython",
    "version": 3
   },
   "file_extension": ".py",
   "mimetype": "text/x-python",
   "name": "python",
   "nbconvert_exporter": "python",
   "pygments_lexer": "ipython3",
   "version": "3.9.6"
  }
 },
 "nbformat": 4,
 "nbformat_minor": 5
}
